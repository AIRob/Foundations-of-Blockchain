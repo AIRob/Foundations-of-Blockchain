{
 "cells": [
  {
   "cell_type": "markdown",
   "metadata": {},
   "source": [
    "## Blockchain functionality \n",
    "Block linking process will have few tasks such as clubbing all the information to create a structure, calculating the hash of the block and appending it to the blockchain. Let's break down each of these functionalities into blockchain methods. "
   ]
  },
  {
   "cell_type": "code",
   "execution_count": 11,
   "metadata": {
    "scrolled": true
   },
   "outputs": [],
   "source": [
    "# -*- coding: utf-8 -*-\n",
    "import json\n",
    "\n",
    "from Crypto.Hash import SHA256\n",
    "from datetime import datetime\n",
    "\n",
    "\n",
    "class Block(object):\n",
    "    \"\"\"A class representing the block for the blockchain\"\"\"\n",
    "\n",
    "    def __init__(self, index, previous_hash, timestamp, data, hash):\n",
    "        self.index = index\n",
    "        self.previous_hash = previous_hash\n",
    "        self.timestamp = timestamp\n",
    "        self.data = data\n",
    "        self.hash = hash\n",
    "\n",
    "\n",
    "\n",
    "\n"
   ]
  },
  {
   "cell_type": "markdown",
   "metadata": {},
   "source": [
    "Above code snippet has python class called Block which has all the basic attributes to represent a block. Usually a block will contain both header and a body where header part will have metadata about the block. But, above example doesn’t distinguish between the header and body. A typical blockchain application such as bitcoin will have a huge set of data such as transactions, but we will consider data as just string type. "
   ]
  },
  {
   "cell_type": "code",
   "execution_count": 12,
   "metadata": {},
   "outputs": [],
   "source": [
    "class Blockchain(object):\n",
    "    \"\"\"A class representing list of blocks\"\"\"\n",
    "\n",
    "    def __init__(self):\n",
    "\n",
    "        self._chain = [self.get_genesis_block()]\n",
    "        self.timestamp = datetime.now().strftime(\"%s\")"
   ]
  },
  {
   "cell_type": "markdown",
   "metadata": {},
   "source": [
    "Above class is a collection of class methods to create a valid blockchain by using hash function. Constructor of the Blockchain will initialize a chain by appending genesis block, which is the first block of the blockchain which doesn't have any reference to previous block. "
   ]
  },
  {
   "cell_type": "code",
   "execution_count": 13,
   "metadata": {},
   "outputs": [],
   "source": [
    "def get_genesis_block(self):\n",
    "        \"\"\"creates first block of the chain\"\"\"\n",
    "\n",
    "        return Block(0, \"0\", 1465154705, \"my genesis block!!\",\n",
    "                     \"816534932c2b7154836da6afc367695e6337db8a921823784c14378abed4f7d7\")\n"
   ]
  },
  {
   "cell_type": "markdown",
   "metadata": {},
   "source": [
    "A genesis block is hardcoded block which will be appended to the beginning of the blockchain. It is created with all static contents. Above genesis block has a hardcoded hash value which is created using SHA256 as follows.\n",
    "\n",
    "SHA256.new(data=(str(0) + \"0\"+ str(1465154705) +\"my genesis block!!\").encode()).hexdigest() "
   ]
  },
  {
   "cell_type": "code",
   "execution_count": 14,
   "metadata": {},
   "outputs": [],
   "source": [
    "    def calculate_hash(self, index, previous_hash, timestamp, data):\n",
    "        \"\"\"calculates SHA256 hash value\"\"\"\n",
    "\n",
    "        hash_object = SHA256.new(data=(str(index) + previous_hash + str(timestamp) + data).encode())\n",
    "        return hash_object.hexdigest()\n"
   ]
  },
  {
   "cell_type": "markdown",
   "metadata": {},
   "source": [
    "calculate_hash is a crucial method of the blockchain as this method creates a hash value which will bind all the blocks together. SHA256 hash value is created by using PyCryptodome package as shown in the chapter 2. This method will concatenate block index, hash value of previous block, timestamp and data to create a string to be hashed. SHA256 hash function will generate a digest which will be the hash value of that block. "
   ]
  },
  {
   "cell_type": "code",
   "execution_count": 15,
   "metadata": {},
   "outputs": [],
   "source": [
    "    def get_latest_block(self):\n",
    "        \"\"\"gets the last block from the blockchain\"\"\"\n",
    "\n",
    "        try:\n",
    "            return self._chain[-1]\n",
    "        except IndexError as e:\n",
    "            return None"
   ]
  },
  {
   "cell_type": "markdown",
   "metadata": {},
   "source": [
    "This function identifies the last block which is appended to the chain which is required while creating each block to find the hash value of previous block. "
   ]
  },
  {
   "cell_type": "code",
   "execution_count": 16,
   "metadata": {},
   "outputs": [],
   "source": [
    "    def create_block(self, block_data):\n",
    "        \"\"\"creates a new block with the given block data\"\"\"\n",
    "\n",
    "        previous_block = self.get_latest_block()\n",
    "        next_index = previous_block.index + 1\n",
    "        next_timestamp = self.timestamp\n",
    "        next_hash = self.calculate_hash(next_index, previous_block.hash, next_timestamp, block_data)\n",
    "        return Block(next_index, previous_block.hash, next_timestamp, block_data, next_hash)\n"
   ]
  },
  {
   "cell_type": "markdown",
   "metadata": {},
   "source": [
    "This function will build a block by constructing all the required attributes to create a Block object. It will also calculate the hash value for the current block. A new Block object consisting of the block structure will be finally created. "
   ]
  },
  {
   "cell_type": "code",
   "execution_count": 17,
   "metadata": {},
   "outputs": [],
   "source": [
    "    @property\n",
    "    def chain(self):\n",
    "        \"\"\"created a dict containing list of block objects to view\"\"\"\n",
    "\n",
    "        return self.dict(self._chain)\n",
    "\n",
    "    def dict(self, chain):\n",
    "        \"\"\"converts list of block objects to dictionary\"\"\"\n",
    "\n",
    "        return json.loads(json.dumps(chain, default=lambda o: o.__dict__))\n",
    "\n",
    "    def reset(self):\n",
    "        \"\"\"resets the blockchain blocks except genesis block\"\"\"\n",
    "\n",
    "        self._chain = [self._chain[0]]\n",
    "\n",
    "    def add_block(self, data):\n",
    "        \"\"\"appends a new block to the blockchain\"\"\"\n",
    "\n",
    "        self._chain.append(self.create_block(data))"
   ]
  },
  {
   "cell_type": "markdown",
   "metadata": {},
   "source": [
    "All the above functions are used to add blocks, reset and read the blocks of the blockchain. Method add_block and the attribute chain are the only required class members that needs to be exposed to the user. "
   ]
  },
  {
   "cell_type": "markdown",
   "metadata": {},
   "source": [
    "## Creating a blockchain "
   ]
  },
  {
   "cell_type": "markdown",
   "metadata": {},
   "source": [
    "Now that we have defined all the required functionalities of a simple blockchain linker, let's emulate a blockchain linker by creating few blocks and adding them to the blockchain. \n",
    "\n",
    "The below code snippet creates a Blockchain object and adds three blocks to the blockchain along with an existing genesis block. This operation is performed again after resetting the blockchain. The important observation here is that both the output of new_chain.chain would produce same list of blocks containing same block hashes as below. This is due to the fact that all the attributes contributing to the hash value creation are same during both the execution, and hash function always produces the same hash value if the fed input is the same. The time stamp is intentionally kept constant for all the blocks to showcase the feature of the hash function. "
   ]
  },
  {
   "cell_type": "code",
   "execution_count": 18,
   "metadata": {},
   "outputs": [
    {
     "ename": "AttributeError",
     "evalue": "'Blockchain' object has no attribute 'get_genesis_block'",
     "output_type": "error",
     "traceback": [
      "\u001b[0;31m---------------------------------------------------------------------------\u001b[0m",
      "\u001b[0;31mAttributeError\u001b[0m                            Traceback (most recent call last)",
      "\u001b[0;32m<ipython-input-18-27f3ae0ac9a7>\u001b[0m in \u001b[0;36m<module>\u001b[0;34m()\u001b[0m\n\u001b[0;32m----> 1\u001b[0;31m \u001b[0mnew_chain\u001b[0m \u001b[0;34m=\u001b[0m \u001b[0mBlockchain\u001b[0m\u001b[0;34m(\u001b[0m\u001b[0;34m)\u001b[0m\u001b[0;34m\u001b[0m\u001b[0m\n\u001b[0m\u001b[1;32m      2\u001b[0m \u001b[0mnew_chain\u001b[0m\u001b[0;34m.\u001b[0m\u001b[0madd_block\u001b[0m\u001b[0;34m(\u001b[0m\u001b[0mdata\u001b[0m\u001b[0;34m=\u001b[0m\u001b[0;34m\"modified first block data\"\u001b[0m\u001b[0;34m)\u001b[0m\u001b[0;34m\u001b[0m\u001b[0m\n\u001b[1;32m      3\u001b[0m \u001b[0mnew_chain\u001b[0m\u001b[0;34m.\u001b[0m\u001b[0madd_block\u001b[0m\u001b[0;34m(\u001b[0m\u001b[0mdata\u001b[0m\u001b[0;34m=\u001b[0m\u001b[0;34m\"second block data\"\u001b[0m\u001b[0;34m)\u001b[0m\u001b[0;34m\u001b[0m\u001b[0m\n\u001b[1;32m      4\u001b[0m \u001b[0mnew_chain\u001b[0m\u001b[0;34m.\u001b[0m\u001b[0madd_block\u001b[0m\u001b[0;34m(\u001b[0m\u001b[0mdata\u001b[0m\u001b[0;34m=\u001b[0m\u001b[0;34m\"third block data\"\u001b[0m\u001b[0;34m)\u001b[0m\u001b[0;34m\u001b[0m\u001b[0m\n\u001b[1;32m      5\u001b[0m \u001b[0;34m\u001b[0m\u001b[0m\n",
      "\u001b[0;32m<ipython-input-12-65d075b85cc7>\u001b[0m in \u001b[0;36m__init__\u001b[0;34m(self)\u001b[0m\n\u001b[1;32m      4\u001b[0m     \u001b[0;32mdef\u001b[0m \u001b[0m__init__\u001b[0m\u001b[0;34m(\u001b[0m\u001b[0mself\u001b[0m\u001b[0;34m)\u001b[0m\u001b[0;34m:\u001b[0m\u001b[0;34m\u001b[0m\u001b[0m\n\u001b[1;32m      5\u001b[0m \u001b[0;34m\u001b[0m\u001b[0m\n\u001b[0;32m----> 6\u001b[0;31m         \u001b[0mself\u001b[0m\u001b[0;34m.\u001b[0m\u001b[0m_chain\u001b[0m \u001b[0;34m=\u001b[0m \u001b[0;34m[\u001b[0m\u001b[0mself\u001b[0m\u001b[0;34m.\u001b[0m\u001b[0mget_genesis_block\u001b[0m\u001b[0;34m(\u001b[0m\u001b[0;34m)\u001b[0m\u001b[0;34m]\u001b[0m\u001b[0;34m\u001b[0m\u001b[0m\n\u001b[0m\u001b[1;32m      7\u001b[0m         \u001b[0mself\u001b[0m\u001b[0;34m.\u001b[0m\u001b[0mtimestamp\u001b[0m \u001b[0;34m=\u001b[0m \u001b[0mdatetime\u001b[0m\u001b[0;34m.\u001b[0m\u001b[0mnow\u001b[0m\u001b[0;34m(\u001b[0m\u001b[0;34m)\u001b[0m\u001b[0;34m.\u001b[0m\u001b[0mstrftime\u001b[0m\u001b[0;34m(\u001b[0m\u001b[0;34m\"%s\"\u001b[0m\u001b[0;34m)\u001b[0m\u001b[0;34m\u001b[0m\u001b[0m\n",
      "\u001b[0;31mAttributeError\u001b[0m: 'Blockchain' object has no attribute 'get_genesis_block'"
     ]
    }
   ],
   "source": [
    "new_chain = Blockchain()\n",
    "new_chain.add_block(data=\"modified first block data\")\n",
    "new_chain.add_block(data=\"second block data\")\n",
    "new_chain.add_block(data=\"third block data\")\n",
    "\n",
    "print(json.dumps(new_chain.chain))"
   ]
  },
  {
   "cell_type": "code",
   "execution_count": 1,
   "metadata": {},
   "outputs": [
    {
     "name": "stdout",
     "output_type": "stream",
     "text": [
      "I am Satoshi Nakamoto0=>a80a81401765c8eddee25df36728d732acb6d135...\n",
      "I am Satoshi Nakamoto1=>f7bc9a6304a4647bb41241a677b5345fe3cd30db...\n",
      "I am Satoshi Nakamoto2=>ea758a8134b115298a1583ffb80ae62939a2d086...\n",
      "I am Satoshi Nakamoto3=>bfa9779618ff072c903d773de30c99bd6e2fd70b...\n",
      "I am Satoshi Nakamoto4=>bce8564de9a83c18c31944a66bde992ff1a77513...\n",
      "I am Satoshi Nakamoto5=>eb362c3cf3479be0a97a20163589038e4dbead49...\n",
      "I am Satoshi Nakamoto6=>4a2fd48e3be420d0d28e202360cfbaba410bedde...\n",
      "I am Satoshi Nakamoto7=>790b5a1349a5f2b909bf74d0d166b17a333c7fd8...\n",
      "I am Satoshi Nakamoto8=>702c45e5b15aa54b625d68dd947f1597b1fa571d...\n",
      "I am Satoshi Nakamoto9=>7007cf7dd40f5e933cd89fff5b791ff0614d9c60...\n",
      "I am Satoshi Nakamoto10=>c2f38c81992f4614206a21537bd634af7178964...\n",
      "I am Satoshi Nakamoto11=>7045da6ed8a914690f087690e1e8d662cf9e56f...\n",
      "I am Satoshi Nakamoto12=>60f01db30c1a0d4cbce2b4b22e88b9b93f58f10...\n",
      "I am Satoshi Nakamoto13=>0ebc56d59a34f5082aaef3d66b37a661696c2b6...\n",
      "I am Satoshi Nakamoto14=>27ead1ca85da66981fd9da01a8c6816f54cfa0d...\n",
      "I am Satoshi Nakamoto15=>394809fb809c5f83ce97ab554a2812cd901d3b1...\n",
      "I am Satoshi Nakamoto16=>8fa4992219df33f50834465d30474298a7d5ec7...\n",
      "I am Satoshi Nakamoto17=>dca9b8b4f8d8e1521fa4eaa46f4f0cdf9ae0e69...\n",
      "I am Satoshi Nakamoto18=>9989a401b2a3a318b01e9ca9a22b0f39d82e48b...\n",
      "I am Satoshi Nakamoto19=>cda56022ecb5b67b2bc93a2d764e75fc6ec6e6e...\n"
     ]
    }
   ],
   "source": [
    "# example of iterating a nonce in a hashing algorithm's input\n",
    "\n",
    "from __future__ import print_function\n",
    "from Crypto.Hash import SHA256\n",
    "\n",
    "text = \"I am Satoshi Nakamoto\"\n",
    "\n",
    "# iterate nonce from 0 to 19\n",
    "for nonce in range(20):\n",
    "\n",
    "    # add the nonce to the end of the text\n",
    "    input_data = text + str(nonce)\n",
    "\n",
    "    # calculate the SHA-256 hash of the input (text+nonce)\n",
    "    hash_data = SHA256.new(input_data.encode()).hexdigest()\n",
    "\n",
    "    # show the input and hash result\n",
    "    print((input_data + '=>' + hash_data)[:64] + \"...\")\n"
   ]
  },
  {
   "cell_type": "code",
   "execution_count": null,
   "metadata": {},
   "outputs": [],
   "source": []
  },
  {
   "cell_type": "code",
   "execution_count": null,
   "metadata": {},
   "outputs": [],
   "source": []
  }
 ],
 "metadata": {
  "kernelspec": {
   "display_name": "Python 3",
   "language": "python",
   "name": "python3"
  },
  "language_info": {
   "codemirror_mode": {
    "name": "ipython",
    "version": 2
   },
   "file_extension": ".py",
   "mimetype": "text/x-python",
   "name": "python",
   "nbconvert_exporter": "python",
   "pygments_lexer": "ipython2",
   "version": "2.7.12"
  }
 },
 "nbformat": 4,
 "nbformat_minor": 2
}
