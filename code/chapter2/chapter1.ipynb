{
 "cells": [
  {
   "cell_type": "code",
   "execution_count": 23,
   "metadata": {},
   "outputs": [
    {
     "name": "stdout",
     "output_type": "stream",
     "text": [
      "Data is encrypted and stored in a file\n"
     ]
    }
   ],
   "source": [
    "#!/usr/bin/python\n",
    "\n",
    "from Crypto.Cipher import AES\n",
    "from Crypto.Random import get_random_bytes\n",
    "# Encryption part\n",
    "with open(\"eas.key\", \"wb\") as file_out:\n",
    "    key = get_random_bytes(16)\n",
    "    file_out.write(key)\n",
    "data = \"plaintext for AES\"\n",
    "cipher = AES.new(key, AES.MODE_EAX)\n",
    "cipher_text, tag = cipher.encrypt_and_digest(data.encode())\n",
    "with open(\"encrypted.bin\", \"wb\") as file_out:\n",
    "    [file_out.write(x) for x in (cipher.nonce, tag, cipher_text)]\n",
    "print(\"Data is encrypted and stored in a file\")\n",
    "\n",
    "\n"
   ]
  },
  {
   "cell_type": "markdown",
   "metadata": {},
   "source": [
    "\n"
   ]
  },
  {
   "cell_type": "markdown",
   "metadata": {},
   "source": [
    "AES cypher object is created by passing the key. Cypher mode EAX is used in the above code. This object is used to encrypt the data. Nonce, tag and ciphertext are stored and transmitted to the decryption end."
   ]
  },
  {
   "cell_type": "code",
   "execution_count": 24,
   "metadata": {},
   "outputs": [
    {
     "name": "stdout",
     "output_type": "stream",
     "text": [
      "Decrypted data is : \"plaintext for AES\"\n"
     ]
    }
   ],
   "source": [
    "\n",
    "# Decryption part\n",
    "with open(\"eas.key\", \"rb\") as file_in:\n",
    "    key = file_in.read(16)\n",
    "with open(\"encrypted.bin\", \"rb\") as file_in:\n",
    "    nonce, tag, cipher_text = [file_in.read(x) for x in (16, 16, -1)]\n",
    "\n",
    "# let's assume that the key is somehow available again\n",
    "cipher = AES.new(key, AES.MODE_EAX, nonce)\n",
    "data = cipher.decrypt_and_verify(cipher_text, tag)\n",
    "print(\"Decrypted data is : \\\"{}\\\"\".format(data.decode()))"
   ]
  },
  {
   "cell_type": "markdown",
   "metadata": {},
   "source": [
    "Decryption part of the AES uses same 16-byte symmetric key generated at the encryption end. Ideally this key has to be tranferred using a secure channel to the other end. Received encrypted binary file read to get nonce, tag and the ciphertext itelf. AES cipher object is created using the same key and nonce value.  Finally decryption is performed using decrypt_and_verify method by providing ceipher text and tag value. Tag value is provided to perform verfication which checks for any modification in the cipher text.  "
   ]
  },
  {
   "cell_type": "code",
   "execution_count": null,
   "metadata": {},
   "outputs": [],
   "source": []
  }
 ],
 "metadata": {
  "kernelspec": {
   "display_name": "Python 3",
   "language": "python",
   "name": "python3"
  },
  "language_info": {
   "codemirror_mode": {
    "name": "ipython",
    "version": 2
   },
   "file_extension": ".py",
   "mimetype": "text/x-python",
   "name": "python",
   "nbconvert_exporter": "python",
   "pygments_lexer": "ipython2",
   "version": "2.7.12"
  }
 },
 "nbformat": 4,
 "nbformat_minor": 2
}
